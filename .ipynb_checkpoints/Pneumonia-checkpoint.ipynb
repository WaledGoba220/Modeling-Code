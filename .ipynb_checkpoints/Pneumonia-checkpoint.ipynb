{
 "cells": [
  {
   "cell_type": "markdown",
   "metadata": {},
   "source": [
    "<img src=\"Secondary-logo-Bright.png\"  alt=\"Pneumonia\"\n",
    "     title=\"Pneumonia\"/>"
   ]
  },
  {
   "cell_type": "markdown",
   "metadata": {},
   "source": [
    "### <span style='color:#2E8BC0'> Dateset </span> "
   ]
  },
  {
   "cell_type": "markdown",
   "metadata": {},
   "source": [
    "#### The dataset we have is splitted into:\n",
    "     - train set\n",
    "     - test set\n",
    "     - val set\n",
    "#### The classes are:\n",
    "    - normal images \n",
    "    - pneumonia images"
   ]
  },
  {
   "cell_type": "code",
   "execution_count": 1,
   "metadata": {
    "execution": {
     "iopub.execute_input": "2022-05-26T21:23:45.913816Z",
     "iopub.status.busy": "2022-05-26T21:23:45.913427Z",
     "iopub.status.idle": "2022-05-26T21:23:49.470422Z",
     "shell.execute_reply": "2022-05-26T21:23:49.469637Z",
     "shell.execute_reply.started": "2022-05-26T21:23:45.913784Z"
    }
   },
   "outputs": [],
   "source": [
    "import plotly.express as px \n",
    "import os  \n",
    "import seaborn as sns \n",
    "import pandas as pd \n",
    "import matplotlib.pyplot as plt \n",
    "plt.style.use(\"ggplot\")"
   ]
  },
  {
   "cell_type": "markdown",
   "metadata": {},
   "source": [
    "# <span style=\"color:#212F3C\"> Collect information about data\n",
    "***\n",
    "   "
   ]
  },
  {
   "cell_type": "code",
   "execution_count": 2,
   "metadata": {
    "execution": {
     "iopub.execute_input": "2022-05-26T21:23:49.474050Z",
     "iopub.status.busy": "2022-05-26T21:23:49.473780Z",
     "iopub.status.idle": "2022-05-26T21:23:49.746549Z",
     "shell.execute_reply": "2022-05-26T21:23:49.745729Z",
     "shell.execute_reply.started": "2022-05-26T21:23:49.474026Z"
    }
   },
   "outputs": [
    {
     "ename": "FileNotFoundError",
     "evalue": "[WinError 3] The system cannot find the path specified: '../input/chest-xray-pneumonia/chest_xray/train/NORMAL'",
     "output_type": "error",
     "traceback": [
      "\u001b[1;31m---------------------------------------------------------------------------\u001b[0m",
      "\u001b[1;31mFileNotFoundError\u001b[0m                         Traceback (most recent call last)",
      "Input \u001b[1;32mIn [2]\u001b[0m, in \u001b[0;36m<cell line: 2>\u001b[1;34m()\u001b[0m\n\u001b[0;32m      1\u001b[0m \u001b[38;5;66;03m#number of normal images \u001b[39;00m\n\u001b[1;32m----> 2\u001b[0m num_normal \u001b[38;5;241m=\u001b[39m \u001b[43mos\u001b[49m\u001b[38;5;241;43m.\u001b[39;49m\u001b[43mlistdir\u001b[49m\u001b[43m(\u001b[49m\u001b[38;5;124;43m\"\u001b[39;49m\u001b[38;5;124;43m../input/chest-xray-pneumonia/chest_xray/train/NORMAL\u001b[39;49m\u001b[38;5;124;43m\"\u001b[39;49m\u001b[43m)\u001b[49m\n\u001b[0;32m      3\u001b[0m \u001b[38;5;66;03m# number of covid [positive] images \u001b[39;00m\n\u001b[0;32m      4\u001b[0m num_covid \u001b[38;5;241m=\u001b[39m os\u001b[38;5;241m.\u001b[39mlistdir(\u001b[38;5;124m\"\u001b[39m\u001b[38;5;124m../input/chest-xray-pneumonia/chest_xray/train/PNEUMONIA\u001b[39m\u001b[38;5;124m\"\u001b[39m) \n",
      "\u001b[1;31mFileNotFoundError\u001b[0m: [WinError 3] The system cannot find the path specified: '../input/chest-xray-pneumonia/chest_xray/train/NORMAL'"
     ]
    }
   ],
   "source": [
    "#number of normal images \n",
    "num_normal = os.listdir(r\"C:\\Users\\lenovo\\Desktop\\Project\\Diseases Detection\\Pneumonia Project\\chest_xray\\train\\NORMAL\")\n",
    "# number of covid [positive] images \n",
    "num_covid = os.listdir(\"../input/chest-xray-pneumonia/chest_xray/train/PNEUMONIA\") \n",
    "# dictionary \n",
    "train_images = {\"PNEUMONIA\" : len(num_covid) ,\n",
    "              \"Normal\" :len(num_normal)\n",
    "             } "
   ]
  },
  {
   "cell_type": "code",
   "execution_count": null,
   "metadata": {
    "execution": {
     "iopub.execute_input": "2022-05-26T21:23:49.748611Z",
     "iopub.status.busy": "2022-05-26T21:23:49.748219Z",
     "iopub.status.idle": "2022-05-26T21:23:49.756355Z",
     "shell.execute_reply": "2022-05-26T21:23:49.755450Z",
     "shell.execute_reply.started": "2022-05-26T21:23:49.748575Z"
    }
   },
   "outputs": [],
   "source": [
    "train_images"
   ]
  },
  {
   "cell_type": "code",
   "execution_count": null,
   "metadata": {
    "execution": {
     "iopub.execute_input": "2022-05-26T21:23:49.759495Z",
     "iopub.status.busy": "2022-05-26T21:23:49.758991Z",
     "iopub.status.idle": "2022-05-26T21:23:49.830492Z",
     "shell.execute_reply": "2022-05-26T21:23:49.829810Z",
     "shell.execute_reply.started": "2022-05-26T21:23:49.759458Z"
    }
   },
   "outputs": [],
   "source": [
    "#number of normal images \n",
    "num_normal = os.listdir(\"../input/chest-xray-pneumonia/chest_xray/test/NORMAL\")\n",
    "# number of covid [positive] images \n",
    "num_covid = os.listdir(\"../input/chest-xray-pneumonia/chest_xray/test/PNEUMONIA\") \n",
    "# dictionary \n",
    "test_images = {\"PNEUMONIA\" : len(num_covid) ,\n",
    "              \"Normal\" :len(num_normal)\n",
    "             } "
   ]
  },
  {
   "cell_type": "code",
   "execution_count": null,
   "metadata": {
    "execution": {
     "iopub.execute_input": "2022-05-26T21:23:49.833322Z",
     "iopub.status.busy": "2022-05-26T21:23:49.833075Z",
     "iopub.status.idle": "2022-05-26T21:23:49.841163Z",
     "shell.execute_reply": "2022-05-26T21:23:49.840345Z",
     "shell.execute_reply.started": "2022-05-26T21:23:49.833299Z"
    }
   },
   "outputs": [],
   "source": [
    "test_images"
   ]
  },
  {
   "cell_type": "code",
   "execution_count": null,
   "metadata": {
    "execution": {
     "iopub.execute_input": "2022-05-26T21:23:50.654544Z",
     "iopub.status.busy": "2022-05-26T21:23:50.653879Z",
     "iopub.status.idle": "2022-05-26T21:23:50.668367Z",
     "shell.execute_reply": "2022-05-26T21:23:50.667620Z",
     "shell.execute_reply.started": "2022-05-26T21:23:50.654497Z"
    }
   },
   "outputs": [],
   "source": [
    "#number of normal images \n",
    "num_normal = os.listdir(\"../input/chest-xray-pneumonia/chest_xray/val/NORMAL\")\n",
    "# number of covid [positive] images \n",
    "num_covid = os.listdir(\"../input/chest-xray-pneumonia/chest_xray/val/PNEUMONIA\") \n",
    "# dictionary \n",
    "validation_images = {\"PNEUMONIA\" : len(num_covid) ,\n",
    "              \"Normal\" :len(num_normal)\n",
    "             } "
   ]
  },
  {
   "cell_type": "code",
   "execution_count": null,
   "metadata": {
    "execution": {
     "iopub.execute_input": "2022-05-26T21:23:51.280318Z",
     "iopub.status.busy": "2022-05-26T21:23:51.279546Z",
     "iopub.status.idle": "2022-05-26T21:23:51.286436Z",
     "shell.execute_reply": "2022-05-26T21:23:51.285614Z",
     "shell.execute_reply.started": "2022-05-26T21:23:51.280281Z"
    }
   },
   "outputs": [],
   "source": [
    "validation_images"
   ]
  },
  {
   "cell_type": "markdown",
   "metadata": {},
   "source": [
    "# <span style=\"color:#212F3C\">Show data distribution \n",
    "***\n",
    "   "
   ]
  },
  {
   "cell_type": "code",
   "execution_count": null,
   "metadata": {
    "execution": {
     "iopub.execute_input": "2022-05-26T21:23:51.787923Z",
     "iopub.status.busy": "2022-05-26T21:23:51.787241Z",
     "iopub.status.idle": "2022-05-26T21:23:52.179263Z",
     "shell.execute_reply": "2022-05-26T21:23:52.178504Z",
     "shell.execute_reply.started": "2022-05-26T21:23:51.787883Z"
    }
   },
   "outputs": [],
   "source": [
    "plt.figure(figsize=(20,6))\n",
    "\n",
    "### show the train images \n",
    "plt.subplot(1,3,1)\n",
    "plt.title(\"Train images\")\n",
    "plt.ylabel(\"Number of images\")\n",
    "plt.xlabel(\"Class\")\n",
    "plt.bar(x=train_images.keys(),height=train_images.values(),color=[\"#A93226\",\"#34495E\"])\n",
    "\n",
    "### show the test images\n",
    "plt.subplot(1,3,2)\n",
    "plt.title(\"Test images\")\n",
    "plt.ylabel(\"Number of images\")\n",
    "plt.xlabel(\"Class\")\n",
    "plt.bar(x=test_images.keys(),height=test_images.values(),color=[\"#A93226\",\"#34495E\"])\n",
    "\n",
    "### show the validation images\n",
    "plt.subplot(1,3,3)\n",
    "plt.title(\"Validation images\")\n",
    "plt.ylabel(\"Number of images\")\n",
    "plt.xlabel(\"Class\")\n",
    "plt.bar(x=validation_images.keys(),height=validation_images.values(),color=[\"#A93226\",\"#34495E\"])"
   ]
  },
  {
   "cell_type": "markdown",
   "metadata": {},
   "source": [
    "#### We can  See that there  is  data `imbalance` in the traning dataset"
   ]
  },
  {
   "cell_type": "markdown",
   "metadata": {},
   "source": [
    "<a id=\"section-two\"></a>\n",
    "# <div style=\"color:#fff;display:fill;border-radius:15px;background-color:#566573;text-align:center;letter-spacing:0.1px;overflow:hidden;padding:15px;color:white;overflow:hidden;margin:0;font-size:100%\">Balance the Data</div>"
   ]
  },
  {
   "cell_type": "markdown",
   "metadata": {},
   "source": [
    "# <span style=\"color:#212F3C\"> Why balance the data ?\n",
    "***\n",
    "   "
   ]
  },
  {
   "cell_type": "markdown",
   "metadata": {},
   "source": [
    "#### we can see form the train data we have `imbalanced data` and the model will overfitt to the `PNEUMONIA` class over the `normal` class\n",
    "#### We can use many techniques to try to solve this problem.. but we have notices that `PNEUMOIA` images have two classes in it. `BATERIAL & VIRAL PNEUMOIA`  so simply splitting these images into two classes will solve the problem.\n",
    "#### We will create new folder that contain the new classes of images.\n",
    "#### The model will take the image and predict wether it is `NORMAL` or` BATERIAL P ` or `VIRAL P` "
   ]
  },
  {
   "cell_type": "markdown",
   "metadata": {},
   "source": [
    "### 1| Creating New Training data"
   ]
  },
  {
   "cell_type": "code",
   "execution_count": null,
   "metadata": {
    "execution": {
     "iopub.execute_input": "2022-05-26T21:23:55.790202Z",
     "iopub.status.busy": "2022-05-26T21:23:55.789548Z",
     "iopub.status.idle": "2022-05-26T21:23:55.798914Z",
     "shell.execute_reply": "2022-05-26T21:23:55.798073Z",
     "shell.execute_reply.started": "2022-05-26T21:23:55.790165Z"
    }
   },
   "outputs": [],
   "source": [
    "# all normal images\n",
    "all_ns = os.listdir(\"../input/chest-xray-pneumonia/chest_xray/train/NORMAL\")\n",
    "# all p images\n",
    "all_ps = os.listdir(\"../input/chest-xray-pneumonia/chest_xray/train/PNEUMONIA\")"
   ]
  },
  {
   "cell_type": "code",
   "execution_count": null,
   "metadata": {
    "execution": {
     "iopub.execute_input": "2022-05-26T21:23:56.119128Z",
     "iopub.status.busy": "2022-05-26T21:23:56.118583Z",
     "iopub.status.idle": "2022-05-26T21:23:56.124748Z",
     "shell.execute_reply": "2022-05-26T21:23:56.123877Z",
     "shell.execute_reply.started": "2022-05-26T21:23:56.119093Z"
    }
   },
   "outputs": [],
   "source": [
    "os.mkdir(\"./train\")\n",
    "os.mkdir(\"./train/NORMAL\")\n",
    "os.mkdir(\"./train/baterial pneumonia\")\n",
    "os.mkdir(\"./train/virus pneumonia\")"
   ]
  },
  {
   "cell_type": "code",
   "execution_count": null,
   "metadata": {
    "execution": {
     "iopub.execute_input": "2022-05-26T21:23:56.850794Z",
     "iopub.status.busy": "2022-05-26T21:23:56.850283Z",
     "iopub.status.idle": "2022-05-26T21:23:56.856989Z",
     "shell.execute_reply": "2022-05-26T21:23:56.856020Z",
     "shell.execute_reply.started": "2022-05-26T21:23:56.850744Z"
    }
   },
   "outputs": [],
   "source": [
    "import shutil "
   ]
  },
  {
   "cell_type": "code",
   "execution_count": null,
   "metadata": {
    "execution": {
     "iopub.execute_input": "2022-05-26T21:23:57.675682Z",
     "iopub.status.busy": "2022-05-26T21:23:57.675306Z",
     "iopub.status.idle": "2022-05-26T21:23:57.679604Z",
     "shell.execute_reply": "2022-05-26T21:23:57.678758Z",
     "shell.execute_reply.started": "2022-05-26T21:23:57.675650Z"
    }
   },
   "outputs": [],
   "source": [
    "source_normal_path =\"../input/chest-xray-pneumonia/chest_xray/train/NORMAL\"\n",
    "source_p_path = \"../input/chest-xray-pneumonia/chest_xray/train/PNEUMONIA\""
   ]
  },
  {
   "cell_type": "code",
   "execution_count": null,
   "metadata": {
    "execution": {
     "iopub.execute_input": "2022-05-26T21:23:58.201764Z",
     "iopub.status.busy": "2022-05-26T21:23:58.200933Z",
     "iopub.status.idle": "2022-05-26T21:23:58.206842Z",
     "shell.execute_reply": "2022-05-26T21:23:58.205879Z",
     "shell.execute_reply.started": "2022-05-26T21:23:58.201722Z"
    }
   },
   "outputs": [],
   "source": [
    "# get the bacterial and visurs images \n",
    "def get_b_v(all_images):\n",
    "    virus = []\n",
    "    bateria = []\n",
    "    for image in all_images:\n",
    "        c = image.split(\"_\")[1]\n",
    "        if c ==\"virus\":\n",
    "            virus.append(image)\n",
    "        elif c == \"bacteria\":\n",
    "            bateria.append(image)  \n",
    "    return bateria , virus "
   ]
  },
  {
   "cell_type": "code",
   "execution_count": null,
   "metadata": {
    "execution": {
     "iopub.execute_input": "2022-05-26T21:23:59.209488Z",
     "iopub.status.busy": "2022-05-26T21:23:59.208717Z",
     "iopub.status.idle": "2022-05-26T21:23:59.214931Z",
     "shell.execute_reply": "2022-05-26T21:23:59.214097Z",
     "shell.execute_reply.started": "2022-05-26T21:23:59.209450Z"
    }
   },
   "outputs": [],
   "source": [
    "bacteria_images , virus_images = get_b_v(all_ps)"
   ]
  },
  {
   "cell_type": "code",
   "execution_count": null,
   "metadata": {
    "execution": {
     "iopub.execute_input": "2022-05-26T21:24:00.731122Z",
     "iopub.status.busy": "2022-05-26T21:24:00.730572Z",
     "iopub.status.idle": "2022-05-26T21:24:00.736779Z",
     "shell.execute_reply": "2022-05-26T21:24:00.735914Z",
     "shell.execute_reply.started": "2022-05-26T21:24:00.731086Z"
    }
   },
   "outputs": [],
   "source": [
    "# check if we got all the images\n",
    "len(all_ps) == len(bacteria_images) + len(virus_images)"
   ]
  },
  {
   "cell_type": "code",
   "execution_count": null,
   "metadata": {
    "execution": {
     "iopub.execute_input": "2022-05-26T21:25:37.324204Z",
     "iopub.status.busy": "2022-05-26T21:25:37.323592Z",
     "iopub.status.idle": "2022-05-26T21:25:39.809282Z",
     "shell.execute_reply": "2022-05-26T21:25:39.808444Z",
     "shell.execute_reply.started": "2022-05-26T21:25:37.324166Z"
    }
   },
   "outputs": [],
   "source": [
    "# now copy the images to the new path \n",
    "for image in all_ns[:1340]: \n",
    "    shutil.copyfile(os.path.join(source_normal_path,image),os.path.join(\"./train/NORMAL\",image)) "
   ]
  },
  {
   "cell_type": "code",
   "execution_count": null,
   "metadata": {
    "execution": {
     "iopub.execute_input": "2022-05-26T21:25:39.811309Z",
     "iopub.status.busy": "2022-05-26T21:25:39.810965Z",
     "iopub.status.idle": "2022-05-26T21:25:41.027660Z",
     "shell.execute_reply": "2022-05-26T21:25:41.026875Z",
     "shell.execute_reply.started": "2022-05-26T21:25:39.811274Z"
    }
   },
   "outputs": [],
   "source": [
    "for image in bacteria_images[:1340]:\n",
    "    shutil.copyfile(os.path.join(source_p_path,image),os.path.join(\"./train/baterial pneumonia\",image)) "
   ]
  },
  {
   "cell_type": "code",
   "execution_count": null,
   "metadata": {
    "execution": {
     "iopub.execute_input": "2022-05-26T21:25:41.031322Z",
     "iopub.status.busy": "2022-05-26T21:25:41.031030Z",
     "iopub.status.idle": "2022-05-26T21:25:44.922217Z",
     "shell.execute_reply": "2022-05-26T21:25:44.921376Z",
     "shell.execute_reply.started": "2022-05-26T21:25:41.031297Z"
    }
   },
   "outputs": [],
   "source": [
    "for image in virus_images[:1340]:\n",
    "    shutil.copyfile(os.path.join(source_p_path,image),os.path.join(\"./train/virus pneumonia\",image)) "
   ]
  },
  {
   "cell_type": "code",
   "execution_count": null,
   "metadata": {
    "execution": {
     "iopub.execute_input": "2022-05-26T21:27:04.692852Z",
     "iopub.status.busy": "2022-05-26T21:27:04.692458Z",
     "iopub.status.idle": "2022-05-26T21:27:04.700850Z",
     "shell.execute_reply": "2022-05-26T21:27:04.700066Z",
     "shell.execute_reply.started": "2022-05-26T21:27:04.692821Z"
    }
   },
   "outputs": [],
   "source": [
    "# collect info \n",
    "train_modified = {\n",
    "    \"normal\": len(os.listdir(\"./train/NORMAL\")),\n",
    "    \"bareial p\": len(os.listdir(\"./train/baterial pneumonia\")),\n",
    "    \"virus p\": len(os.listdir(\"./train/virus pneumonia\"))\n",
    "}"
   ]
  },
  {
   "cell_type": "code",
   "execution_count": null,
   "metadata": {
    "execution": {
     "iopub.execute_input": "2022-05-26T21:27:05.695659Z",
     "iopub.status.busy": "2022-05-26T21:27:05.695310Z",
     "iopub.status.idle": "2022-05-26T21:27:05.700568Z",
     "shell.execute_reply": "2022-05-26T21:27:05.699859Z",
     "shell.execute_reply.started": "2022-05-26T21:27:05.695630Z"
    }
   },
   "outputs": [],
   "source": [
    "train_modified"
   ]
  },
  {
   "cell_type": "markdown",
   "metadata": {},
   "source": [
    "### 2|  Creatint new Test data"
   ]
  },
  {
   "cell_type": "code",
   "execution_count": null,
   "metadata": {
    "execution": {
     "iopub.execute_input": "2022-05-26T21:27:11.352403Z",
     "iopub.status.busy": "2022-05-26T21:27:11.352035Z",
     "iopub.status.idle": "2022-05-26T21:27:11.360611Z",
     "shell.execute_reply": "2022-05-26T21:27:11.359822Z",
     "shell.execute_reply.started": "2022-05-26T21:27:11.352375Z"
    }
   },
   "outputs": [],
   "source": [
    "# all normal images\n",
    "all_ns_test = os.listdir(\"../input/chest-xray-pneumonia/chest_xray/test/NORMAL\")\n",
    "# all p images\n",
    "all_ps_test= os.listdir(\"../input/chest-xray-pneumonia/chest_xray/test/PNEUMONIA\")"
   ]
  },
  {
   "cell_type": "code",
   "execution_count": null,
   "metadata": {
    "execution": {
     "iopub.execute_input": "2022-05-26T21:27:11.728443Z",
     "iopub.status.busy": "2022-05-26T21:27:11.728107Z",
     "iopub.status.idle": "2022-05-26T21:27:11.734007Z",
     "shell.execute_reply": "2022-05-26T21:27:11.732944Z",
     "shell.execute_reply.started": "2022-05-26T21:27:11.728415Z"
    }
   },
   "outputs": [],
   "source": [
    "os.mkdir(\"./test\")\n",
    "os.mkdir(\"./test/NORMAL\")\n",
    "os.mkdir(\"./test/baterial pneumonia\")\n",
    "os.mkdir(\"./test/virus pneumonia\")\n",
    "source_normal_path_test =\"../input/chest-xray-pneumonia/chest_xray/test/NORMAL\"\n",
    "source_p_path_test = \"../input/chest-xray-pneumonia/chest_xray/test/PNEUMONIA\""
   ]
  },
  {
   "cell_type": "code",
   "execution_count": null,
   "metadata": {
    "execution": {
     "iopub.execute_input": "2022-05-26T21:27:12.596833Z",
     "iopub.status.busy": "2022-05-26T21:27:12.596470Z",
     "iopub.status.idle": "2022-05-26T21:27:12.602164Z",
     "shell.execute_reply": "2022-05-26T21:27:12.601164Z",
     "shell.execute_reply.started": "2022-05-26T21:27:12.596804Z"
    }
   },
   "outputs": [],
   "source": [
    "# get the bacterial and visurs images \n",
    "def get_b_v(all_images):\n",
    "    virus = []\n",
    "    bateria = []\n",
    "    for image in all_images:\n",
    "        c = image.split(\"_\")[1]\n",
    "        if c ==\"virus\":\n",
    "            virus.append(image)\n",
    "        elif c == \"bacteria\":\n",
    "            bateria.append(image)  \n",
    "    return bateria , virus "
   ]
  },
  {
   "cell_type": "code",
   "execution_count": null,
   "metadata": {
    "execution": {
     "iopub.execute_input": "2022-05-26T21:27:13.740631Z",
     "iopub.status.busy": "2022-05-26T21:27:13.739905Z",
     "iopub.status.idle": "2022-05-26T21:27:13.744879Z",
     "shell.execute_reply": "2022-05-26T21:27:13.743852Z",
     "shell.execute_reply.started": "2022-05-26T21:27:13.740598Z"
    }
   },
   "outputs": [],
   "source": [
    "bacteria_images_test , virus_images_test = get_b_v(all_ps_test)"
   ]
  },
  {
   "cell_type": "code",
   "execution_count": null,
   "metadata": {
    "execution": {
     "iopub.execute_input": "2022-05-26T21:27:14.344765Z",
     "iopub.status.busy": "2022-05-26T21:27:14.343884Z",
     "iopub.status.idle": "2022-05-26T21:27:14.353029Z",
     "shell.execute_reply": "2022-05-26T21:27:14.350156Z",
     "shell.execute_reply.started": "2022-05-26T21:27:14.344718Z"
    }
   },
   "outputs": [],
   "source": [
    "len(bacteria_images_test), len(virus_images_test) , len(all_ps_test)"
   ]
  },
  {
   "cell_type": "code",
   "execution_count": null,
   "metadata": {
    "execution": {
     "iopub.execute_input": "2022-05-26T21:27:16.765377Z",
     "iopub.status.busy": "2022-05-26T21:27:16.765023Z",
     "iopub.status.idle": "2022-05-26T21:27:16.771034Z",
     "shell.execute_reply": "2022-05-26T21:27:16.770283Z",
     "shell.execute_reply.started": "2022-05-26T21:27:16.765348Z"
    }
   },
   "outputs": [],
   "source": [
    "# check if we got all the images\n",
    "len(all_ps_test) == len(bacteria_images_test) + len(virus_images_test) "
   ]
  },
  {
   "cell_type": "code",
   "execution_count": null,
   "metadata": {
    "execution": {
     "iopub.execute_input": "2022-05-26T21:27:20.194665Z",
     "iopub.status.busy": "2022-05-26T21:27:20.194310Z",
     "iopub.status.idle": "2022-05-26T21:27:23.683123Z",
     "shell.execute_reply": "2022-05-26T21:27:23.682193Z",
     "shell.execute_reply.started": "2022-05-26T21:27:20.194635Z"
    }
   },
   "outputs": [],
   "source": [
    " #now copy the images to the new path \n",
    "for image in all_ns_test:\n",
    "    shutil.copyfile(os.path.join(source_normal_path_test,image),os.path.join(\"./test/NORMAL\",image)) \n",
    "##--------------------\n",
    "for image in bacteria_images_test:\n",
    "    shutil.copyfile(os.path.join(source_p_path_test,image),os.path.join(\"./test/baterial pneumonia\",image)) \n",
    "##------------------\n",
    "for image in virus_images_test:\n",
    "    shutil.copyfile(os.path.join(source_p_path_test,image),os.path.join(\"./test/virus pneumonia\",image))"
   ]
  },
  {
   "cell_type": "code",
   "execution_count": null,
   "metadata": {
    "execution": {
     "iopub.execute_input": "2022-05-26T21:27:23.685008Z",
     "iopub.status.busy": "2022-05-26T21:27:23.684611Z",
     "iopub.status.idle": "2022-05-26T21:27:23.692071Z",
     "shell.execute_reply": "2022-05-26T21:27:23.691364Z",
     "shell.execute_reply.started": "2022-05-26T21:27:23.684970Z"
    }
   },
   "outputs": [],
   "source": [
    "# collect info \n",
    "test_modified = {\n",
    "    \"normal\": len(all_ns_test),\n",
    "    \"bareial p\": len(bacteria_images_test),\n",
    "    \"virus p\": len(virus_images_test)\n",
    "}"
   ]
  },
  {
   "cell_type": "code",
   "execution_count": null,
   "metadata": {
    "execution": {
     "iopub.execute_input": "2022-05-26T21:27:23.694176Z",
     "iopub.status.busy": "2022-05-26T21:27:23.693777Z",
     "iopub.status.idle": "2022-05-26T21:27:23.701650Z",
     "shell.execute_reply": "2022-05-26T21:27:23.700868Z",
     "shell.execute_reply.started": "2022-05-26T21:27:23.694140Z"
    }
   },
   "outputs": [],
   "source": [
    "test_modified"
   ]
  },
  {
   "cell_type": "markdown",
   "metadata": {},
   "source": [
    "# <span style=\"color:#212F3C\"> Why balance the data ?\n",
    "***\n",
    "   "
   ]
  },
  {
   "cell_type": "code",
   "execution_count": null,
   "metadata": {
    "execution": {
     "iopub.execute_input": "2022-05-26T21:27:26.705880Z",
     "iopub.status.busy": "2022-05-26T21:27:26.704914Z",
     "iopub.status.idle": "2022-05-26T21:27:26.961368Z",
     "shell.execute_reply": "2022-05-26T21:27:26.960626Z",
     "shell.execute_reply.started": "2022-05-26T21:27:26.705833Z"
    }
   },
   "outputs": [],
   "source": [
    "plt.figure(figsize=(20,6))\n",
    "\n",
    "### show the train images \n",
    "plt.subplot(1,3,1)\n",
    "plt.title(\"Train images modified\")\n",
    "plt.ylabel(\"Number of images\")\n",
    "plt.xlabel(\"Class\")\n",
    "plt.bar(x=train_modified.keys(),height=train_modified.values(),color=[\"#A93226\",\"#34495E\"])\n",
    "\n",
    "### show the test images\n",
    "plt.subplot(1,3,2)\n",
    "plt.title(\"Test images modified\")\n",
    "plt.ylabel(\"Number of images\")\n",
    "plt.xlabel(\"Class\")\n",
    "plt.bar(x=test_modified.keys(),height=test_modified.values(),color=[\"#A93226\",\"#34495E\"])\n"
   ]
  },
  {
   "cell_type": "markdown",
   "metadata": {},
   "source": [
    "### Now we have `balanced dataset` of three classes [ normal , baterial pneumonia , viral pneumonia ] "
   ]
  },
  {
   "cell_type": "markdown",
   "metadata": {},
   "source": [
    "<a id=\"section-three\"></a>\n",
    "# <div style=\"color:#fff;display:fill;border-radius:15px;background-color:#566573;text-align:center;letter-spacing:0.1px;overflow:hidden;padding:15px;color:white;overflow:hidden;margin:0;font-size:100%\">Create data pipline</div>"
   ]
  },
  {
   "cell_type": "code",
   "execution_count": null,
   "metadata": {
    "execution": {
     "iopub.execute_input": "2022-05-26T21:29:42.896654Z",
     "iopub.status.busy": "2022-05-26T21:29:42.896076Z",
     "iopub.status.idle": "2022-05-26T21:29:47.384166Z",
     "shell.execute_reply": "2022-05-26T21:29:47.383333Z",
     "shell.execute_reply.started": "2022-05-26T21:29:42.896610Z"
    }
   },
   "outputs": [],
   "source": [
    "import tensorflow as tf "
   ]
  },
  {
   "cell_type": "markdown",
   "metadata": {},
   "source": [
    "#### Training data pipline"
   ]
  },
  {
   "cell_type": "code",
   "execution_count": null,
   "metadata": {
    "execution": {
     "iopub.execute_input": "2022-05-26T21:29:47.386821Z",
     "iopub.status.busy": "2022-05-26T21:29:47.385683Z",
     "iopub.status.idle": "2022-05-26T21:29:51.133811Z",
     "shell.execute_reply": "2022-05-26T21:29:51.133065Z",
     "shell.execute_reply.started": "2022-05-26T21:29:47.386784Z"
    }
   },
   "outputs": [],
   "source": [
    "# create the training data from the folder\n",
    "train_ds = tf.keras.utils.image_dataset_from_directory(\n",
    "  \"./train\", # the new directory of the train images\n",
    "  seed=123,\n",
    "  image_size=(256, 256), # the image output size \n",
    "  batch_size=32, \n",
    "  shuffle=True # to shuffle the images when feeded to the model\n",
    ")"
   ]
  },
  {
   "cell_type": "markdown",
   "metadata": {},
   "source": [
    "#### Test data pipline"
   ]
  },
  {
   "cell_type": "code",
   "execution_count": null,
   "metadata": {
    "execution": {
     "iopub.execute_input": "2022-05-26T21:30:57.635494Z",
     "iopub.status.busy": "2022-05-26T21:30:57.635125Z",
     "iopub.status.idle": "2022-05-26T21:30:57.757035Z",
     "shell.execute_reply": "2022-05-26T21:30:57.756321Z",
     "shell.execute_reply.started": "2022-05-26T21:30:57.635464Z"
    }
   },
   "outputs": [],
   "source": [
    "# create the training data from the folder\n",
    "test_ds = tf.keras.utils.image_dataset_from_directory(\n",
    "  \"./test\", # new directory for the test images\n",
    "  seed=123,\n",
    "  image_size=(256, 256),\n",
    "  batch_size=32,\n",
    "  shuffle=True\n",
    ")"
   ]
  },
  {
   "cell_type": "code",
   "execution_count": null,
   "metadata": {
    "execution": {
     "iopub.execute_input": "2022-05-26T21:30:40.813912Z",
     "iopub.status.busy": "2022-05-26T21:30:40.813457Z",
     "iopub.status.idle": "2022-05-26T21:30:40.819802Z",
     "shell.execute_reply": "2022-05-26T21:30:40.818911Z",
     "shell.execute_reply.started": "2022-05-26T21:30:40.813875Z"
    }
   },
   "outputs": [],
   "source": [
    "# get the classes names form the data \n",
    "classes=train_ds.class_names \n",
    "classes  "
   ]
  },
  {
   "cell_type": "markdown",
   "metadata": {},
   "source": [
    "#### Optimize the data pipline for faset training "
   ]
  },
  {
   "cell_type": "code",
   "execution_count": null,
   "metadata": {
    "execution": {
     "iopub.execute_input": "2022-05-26T21:31:01.299464Z",
     "iopub.status.busy": "2022-05-26T21:31:01.298908Z",
     "iopub.status.idle": "2022-05-26T21:31:01.307867Z",
     "shell.execute_reply": "2022-05-26T21:31:01.307013Z",
     "shell.execute_reply.started": "2022-05-26T21:31:01.299429Z"
    }
   },
   "outputs": [],
   "source": [
    "train_ds = train_ds.cache().shuffle(1000).prefetch(buffer_size=tf.data.AUTOTUNE)\n",
    "test_ds = test_ds.cache().shuffle(1000).prefetch(buffer_size=tf.data.AUTOTUNE)"
   ]
  },
  {
   "cell_type": "markdown",
   "metadata": {},
   "source": [
    "<a id=\"section-four\"></a>\n",
    "# <div style=\"color:#fff;display:fill;border-radius:15px;background-color:#566573;text-align:center;letter-spacing:0.1px;overflow:hidden;padding:15px;color:white;overflow:hidden;margin:0;font-size:100%\">Visualize some images</div>"
   ]
  },
  {
   "cell_type": "markdown",
   "metadata": {},
   "source": [
    "#### <span style='color:#2E8BC0'>Show some images from the data </span>"
   ]
  },
  {
   "cell_type": "code",
   "execution_count": null,
   "metadata": {
    "execution": {
     "iopub.execute_input": "2022-05-26T21:31:05.511337Z",
     "iopub.status.busy": "2022-05-26T21:31:05.510964Z",
     "iopub.status.idle": "2022-05-26T21:31:10.653109Z",
     "shell.execute_reply": "2022-05-26T21:31:10.652266Z",
     "shell.execute_reply.started": "2022-05-26T21:31:05.511307Z"
    }
   },
   "outputs": [],
   "source": [
    "# show 24 images from the data\n",
    "plt.figure(figsize=(20,20))\n",
    "for images, labels in train_ds.take(1) :\n",
    "    # create a grid of 5x5 images\n",
    "    for i in range(0,25):\n",
    "        plt.subplot(5,5,i+1)\n",
    "        plt.imshow(images[i].numpy().astype(\"u8\"))\n",
    "        plt.title(classes[labels[i]])\n",
    "        plt.axis('off')\n",
    "    # show the plot\n",
    "    plt.show()\n",
    "    break"
   ]
  },
  {
   "cell_type": "markdown",
   "metadata": {},
   "source": [
    "<a id=\"section-fife\"></a>\n",
    "# <div style=\"color:#fff;display:fill;border-radius:15px;background-color:#566573;text-align:center;letter-spacing:0.1px;overflow:hidden;padding:15px;color:white;overflow:hidden;margin:0;font-size:100%\"> Build and Train the Model</div>"
   ]
  },
  {
   "cell_type": "markdown",
   "metadata": {},
   "source": [
    "### Using the principle of transfer learning , we will use <span style=\"color:red\">Xception Model </span> and remove the output layers "
   ]
  },
  {
   "cell_type": "code",
   "execution_count": null,
   "metadata": {
    "execution": {
     "iopub.execute_input": "2022-05-26T21:31:20.427629Z",
     "iopub.status.busy": "2022-05-26T21:31:20.427271Z",
     "iopub.status.idle": "2022-05-26T21:31:20.434780Z",
     "shell.execute_reply": "2022-05-26T21:31:20.433874Z",
     "shell.execute_reply.started": "2022-05-26T21:31:20.427599Z"
    }
   },
   "outputs": [],
   "source": [
    "# load the VGG16 model from tensorflow \n",
    "from tensorflow.keras.applications import Xception\n",
    "from tensorflow.keras.models import Model\n",
    "from tensorflow.keras.layers import Dropout,Dense, Flatten, Input, AveragePooling2D,GlobalAveragePooling2D ,BatchNormalization"
   ]
  },
  {
   "cell_type": "markdown",
   "metadata": {},
   "source": [
    "#### Show the Xception model architcture \n"
   ]
  },
  {
   "cell_type": "code",
   "execution_count": null,
   "metadata": {
    "execution": {
     "iopub.execute_input": "2022-05-26T21:31:23.276445Z",
     "iopub.status.busy": "2022-05-26T21:31:23.275816Z",
     "iopub.status.idle": "2022-05-26T21:31:29.902109Z",
     "shell.execute_reply": "2022-05-26T21:31:29.901124Z",
     "shell.execute_reply.started": "2022-05-26T21:31:23.276403Z"
    },
    "scrolled": true
   },
   "outputs": [],
   "source": [
    "xception_model = Xception()\n",
    "from tensorflow.keras.utils import plot_model\n",
    "plot_model(xception_model,to_file=\"./xception_model.png\")"
   ]
  },
  {
   "cell_type": "markdown",
   "metadata": {},
   "source": [
    "#### <span style='color:#2E8BC0'>Import the Xception model and change output layers\n",
    "</span>"
   ]
  },
  {
   "cell_type": "markdown",
   "metadata": {},
   "source": [
    "<span style=\"color:red;font-size:15px\"> we will let the last 20 layers of the xception model to be trained and use the imagenet weights as initial weights, Sure this will Enhance the model `peformance`</span>"
   ]
  },
  {
   "cell_type": "code",
   "execution_count": null,
   "metadata": {
    "execution": {
     "iopub.execute_input": "2022-05-26T21:31:54.538934Z",
     "iopub.status.busy": "2022-05-26T21:31:54.538421Z",
     "iopub.status.idle": "2022-05-26T21:31:57.231664Z",
     "shell.execute_reply": "2022-05-26T21:31:57.230660Z",
     "shell.execute_reply.started": "2022-05-26T21:31:54.538887Z"
    }
   },
   "outputs": [],
   "source": [
    "# define the model without it top dense layers \n",
    "input_model = Xception(weights=\"imagenet\", include_top=False, input_tensor=Input(shape=(256, 256,3)))\n",
    "# build the VGG16 model as input of the new model\n",
    "x = input_model.output\n",
    "x = GlobalAveragePooling2D()(x)\n",
    "x = Dense(3, activation=\"softmax\")(x)\n",
    "\n",
    "model = Model(inputs=input_model.input, outputs=x)\n",
    "# we don not want the VGG16 model to be trained, only traning the top few layers \n",
    "# the next code will not let the model to train the layers of the model, except [last_10_conv_layers and dense_layers ]\n",
    "for layer in input_model.layers[:-20]:\n",
    "    layer.trainable = False\n"
   ]
  },
  {
   "cell_type": "markdown",
   "metadata": {},
   "source": [
    "#### <span style='color:#2E8BC0'>Show the model structure , weights .. </span>"
   ]
  },
  {
   "cell_type": "code",
   "execution_count": null,
   "metadata": {
    "execution": {
     "iopub.execute_input": "2022-05-26T21:32:53.585322Z",
     "iopub.status.busy": "2022-05-26T21:32:53.584780Z",
     "iopub.status.idle": "2022-05-26T21:32:53.622596Z",
     "shell.execute_reply": "2022-05-26T21:32:53.621752Z",
     "shell.execute_reply.started": "2022-05-26T21:32:53.585288Z"
    },
    "scrolled": true
   },
   "outputs": [],
   "source": [
    "model.summary() "
   ]
  },
  {
   "cell_type": "code",
   "execution_count": null,
   "metadata": {
    "execution": {
     "iopub.execute_input": "2022-05-26T21:32:51.494419Z",
     "iopub.status.busy": "2022-05-26T21:32:51.493882Z",
     "iopub.status.idle": "2022-05-26T21:32:51.523123Z",
     "shell.execute_reply": "2022-05-26T21:32:51.522316Z",
     "shell.execute_reply.started": "2022-05-26T21:32:51.494375Z"
    }
   },
   "outputs": [],
   "source": [
    "# compile the model \n",
    "model.compile(\n",
    "              optimizer=\"adam\",\n",
    "              loss=tf.keras.losses.SparseCategoricalCrossentropy(from_logits=False),\n",
    "              metrics = [\n",
    "                            'accuracy', # show the overall accuracy\n",
    "                            tf.keras.metrics.Precision(name='precision'), # show the precesion in each epoch\n",
    "                            tf.keras.metrics.Recall(name='recall') # show the recal in each epoch\n",
    "                        ]\n",
    "             )"
   ]
  },
  {
   "cell_type": "markdown",
   "metadata": {},
   "source": [
    "#### <span style='color:#2E8BC0'>`Callbacks` to store model best performane </span>"
   ]
  },
  {
   "cell_type": "code",
   "execution_count": null,
   "metadata": {
    "execution": {
     "iopub.execute_input": "2022-05-26T21:32:56.751513Z",
     "iopub.status.busy": "2022-05-26T21:32:56.751147Z",
     "iopub.status.idle": "2022-05-26T21:32:56.756748Z",
     "shell.execute_reply": "2022-05-26T21:32:56.755267Z",
     "shell.execute_reply.started": "2022-05-26T21:32:56.751485Z"
    }
   },
   "outputs": [],
   "source": [
    "# callbacks \n",
    "check=tf.keras.callbacks.ModelCheckpoint(\"./best_weights_2.h5\",monitor=\"val_accuracy\")\n",
    "callback = [check] "
   ]
  },
  {
   "cell_type": "markdown",
   "metadata": {},
   "source": [
    "## <span style='color:#2E8BC0'>Start Training the model </span>"
   ]
  },
  {
   "cell_type": "markdown",
   "metadata": {},
   "source": [
    "##### We will take the validation set to be some of the test set and the validation images is so small "
   ]
  },
  {
   "cell_type": "code",
   "execution_count": null,
   "metadata": {
    "execution": {
     "iopub.execute_input": "2022-05-26T21:34:14.996990Z",
     "iopub.status.busy": "2022-05-26T21:34:14.996387Z",
     "iopub.status.idle": "2022-05-26T21:35:44.732316Z",
     "shell.execute_reply": "2022-05-26T21:35:44.731467Z",
     "shell.execute_reply.started": "2022-05-26T21:34:14.996943Z"
    }
   },
   "outputs": [],
   "source": [
    "history=model.fit(train_ds, # the  generator\n",
    "                  validation_data=test_ds.take(8), # take [8 batches from the images = 8*32 = 256 images] as validation set\n",
    "                  epochs=20, # number of tranings over all the dataset \n",
    "                  callbacks=callback, # to save best weights\n",
    "                  verbose = 1 # to show the history of the model\n",
    "                  )"
   ]
  },
  {
   "cell_type": "markdown",
   "metadata": {},
   "source": [
    "#### <span style='color:#2E8BC0'>Show model performance `History` </span>"
   ]
  },
  {
   "cell_type": "code",
   "execution_count": null,
   "metadata": {
    "execution": {
     "iopub.execute_input": "2022-05-26T21:35:49.499867Z",
     "iopub.status.busy": "2022-05-26T21:35:49.499478Z",
     "iopub.status.idle": "2022-05-26T21:35:49.846532Z",
     "shell.execute_reply": "2022-05-26T21:35:49.845704Z",
     "shell.execute_reply.started": "2022-05-26T21:35:49.499835Z"
    }
   },
   "outputs": [],
   "source": [
    "plt.style.use(\"ggplot\")\n",
    "plt.figure(figsize=(18, 8))\n",
    "# the loss curve\n",
    "plt.subplot(1, 2, 1)\n",
    "plt.plot(history.history['loss'], label='train_set')\n",
    "plt.plot(history.history['val_loss'], label='val_set')\n",
    "plt.legend()\n",
    "plt.title('Loss Curve')\n",
    "# the accuracy curve\n",
    "plt.subplot(1, 2, 2)\n",
    "plt.plot(history.history['accuracy'], label='train_set')\n",
    "plt.plot(history.history['val_accuracy'], label='val_set')\n",
    "plt.legend()\n",
    "plt.title('Accuraccy Curve')"
   ]
  },
  {
   "cell_type": "markdown",
   "metadata": {},
   "source": [
    "#### <span style='color:#2E8BC0'>Show model predictions on `Test images` </span>"
   ]
  },
  {
   "cell_type": "code",
   "execution_count": null,
   "metadata": {
    "execution": {
     "iopub.execute_input": "2022-05-26T21:35:55.654887Z",
     "iopub.status.busy": "2022-05-26T21:35:55.654513Z",
     "iopub.status.idle": "2022-05-26T21:35:57.570087Z",
     "shell.execute_reply": "2022-05-26T21:35:57.569317Z",
     "shell.execute_reply.started": "2022-05-26T21:35:55.654856Z"
    }
   },
   "outputs": [],
   "source": [
    "model.evaluate(test_ds)"
   ]
  },
  {
   "cell_type": "markdown",
   "metadata": {},
   "source": [
    "<a id=\"section-fife\"></a>\n",
    "# <div style=\"color:#fff;display:fill;border-radius:15px;background-color:#566573;text-align:center;letter-spacing:0.1px;overflow:hidden;padding:15px;color:white;overflow:hidden;margin:0;font-size:100%\">Visualize model performance on images</div>"
   ]
  },
  {
   "cell_type": "code",
   "execution_count": null,
   "metadata": {
    "execution": {
     "iopub.execute_input": "2022-05-26T21:39:21.749675Z",
     "iopub.status.busy": "2022-05-26T21:39:21.749314Z",
     "iopub.status.idle": "2022-05-26T21:39:21.754099Z",
     "shell.execute_reply": "2022-05-26T21:39:21.753241Z",
     "shell.execute_reply.started": "2022-05-26T21:39:21.749647Z"
    }
   },
   "outputs": [],
   "source": [
    "import numpy as np "
   ]
  },
  {
   "cell_type": "code",
   "execution_count": null,
   "metadata": {
    "execution": {
     "iopub.execute_input": "2022-05-26T22:13:02.988217Z",
     "iopub.status.busy": "2022-05-26T22:13:02.987782Z",
     "iopub.status.idle": "2022-05-26T22:13:09.356358Z",
     "shell.execute_reply": "2022-05-26T22:13:09.355699Z",
     "shell.execute_reply.started": "2022-05-26T22:13:02.988184Z"
    }
   },
   "outputs": [],
   "source": [
    "# showing some predictions\n",
    "plt.figure(figsize=(20,20))\n",
    "for images, labels in test_ds.take(1):\n",
    "    for i in range(32):\n",
    "        plt.subplot(8,4,i+1)\n",
    "        # plot the image\n",
    "        plt.imshow(images[i].numpy().astype('u8'))\n",
    "        # get the probalilities of all images\n",
    "        predictions=model.predict(images)\n",
    "        # get the index of the maximum probalility of the this images and show the name\n",
    "        predicted_class=classes[np.argmax(predictions[i])]\n",
    "        # the probalility of this class\n",
    "        prob= round(np.max(predictions[i]),4)\n",
    "        # get the actual class of the image\n",
    "        actual_class= classes[labels[i]] \n",
    "        plt.title(f\"Actual class : {actual_class} \\nPredicted class : {predicted_class} \\nProbalility : {np.round(float(prob),4)}\",fontsize=12)\n",
    "        plt.axis('off')\n",
    "plt.tight_layout(pad=.8)"
   ]
  }
 ],
 "metadata": {
  "kernelspec": {
   "display_name": "Python 3 (ipykernel)",
   "language": "python",
   "name": "python3"
  },
  "language_info": {
   "codemirror_mode": {
    "name": "ipython",
    "version": 3
   },
   "file_extension": ".py",
   "mimetype": "text/x-python",
   "name": "python",
   "nbconvert_exporter": "python",
   "pygments_lexer": "ipython3",
   "version": "3.9.12"
  }
 },
 "nbformat": 4,
 "nbformat_minor": 4
}
